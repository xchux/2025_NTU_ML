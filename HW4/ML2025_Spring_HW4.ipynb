{
  "cells": [
    {
      "cell_type": "markdown",
      "metadata": {
        "id": "QUwfibz3pw_R"
      },
      "source": [
        "# Training Transformer\n",
        "\n",
        "### TA's Slide\n",
        "[Slide](https://docs.google.com/presentation/d/1ga0d43mWyrfHjdkp7FG3iWcEKTGr8CdkifYhhi4LBY8/edit?usp=sharing)\n",
        "\n",
        "### Description\n",
        "In this assignment, we are tasked with utilizing a transformer decoder-only architecture for pretraining, with a focus on next-token prediction, applied to Pokémon images.\n",
        "\n",
        "Please feel free to mail us if you have any questions.\n",
        "\n",
        "ntu-ml-2025-spring-ta@googlegroups.com"
      ]
    },
    {
      "cell_type": "markdown",
      "metadata": {
        "id": "8TSNIY5SAZUR"
      },
      "source": [
        "# Utilities"
      ]
    },
    {
      "cell_type": "markdown",
      "metadata": {
        "id": "LlFjd2Jya7Me"
      },
      "source": [
        "### Download packages"
      ]
    },
    {
      "cell_type": "code",
      "execution_count": null,
      "metadata": {
        "id": "fLdY0QcGsfii"
      },
      "outputs": [],
      "source": [
        "!pip install datasets==2.15.0 transformers==4.35.2 accelerate"
      ]
    },
    {
      "cell_type": "markdown",
      "metadata": {
        "id": "kY7XIt-Msf5K"
      },
      "source": [
        "### Import Packages"
      ]
    },
    {
      "cell_type": "code",
      "execution_count": 1,
      "metadata": {
        "id": "OJ_4mAauKFu1"
      },
      "outputs": [
        {
          "name": "stderr",
          "output_type": "stream",
          "text": [
            "/usr/local/lib/python3.11/dist-packages/tqdm/auto.py:21: TqdmWarning: IProgress not found. Please update jupyter and ipywidgets. See https://ipywidgets.readthedocs.io/en/stable/user_install.html\n",
            "  from .autonotebook import tqdm as notebook_tqdm\n"
          ]
        }
      ],
      "source": [
        "import os\n",
        "import matplotlib.pyplot as plt\n",
        "import numpy as np\n",
        "import torch\n",
        "import torch.optim as optim\n",
        "from PIL import Image\n",
        "from torch import nn\n",
        "from torch.utils.data import DataLoader, Dataset\n",
        "from tqdm import tqdm\n",
        "from transformers import AutoModelForCausalLM, Qwen2Config, set_seed\n",
        "from datasets import load_dataset\n",
        "from typing import Dict, Any, Optional, List, Tuple, Union"
      ]
    },
    {
      "cell_type": "markdown",
      "metadata": {
        "id": "WixuPQuGbG_z"
      },
      "source": [
        "### Check Devices"
      ]
    },
    {
      "cell_type": "code",
      "execution_count": 33,
      "metadata": {
        "id": "9COb5XCNbJA_"
      },
      "outputs": [
        {
          "name": "stdout",
          "output_type": "stream",
          "text": [
            "Mon Jun 30 11:34:52 2025       \n",
            "+-----------------------------------------------------------------------------------------+\n",
            "| NVIDIA-SMI 575.57.04              Driver Version: 576.52         CUDA Version: 12.9     |\n",
            "|-----------------------------------------+------------------------+----------------------+\n",
            "| GPU  Name                 Persistence-M | Bus-Id          Disp.A | Volatile Uncorr. ECC |\n",
            "| Fan  Temp   Perf          Pwr:Usage/Cap |           Memory-Usage | GPU-Util  Compute M. |\n",
            "|                                         |                        |               MIG M. |\n",
            "|=========================================+========================+======================|\n",
            "|   0  NVIDIA GeForce RTX 4070 Ti     On  |   00000000:01:00.0  On |                  N/A |\n",
            "|  0%   40C    P2             42W /  285W |    2874MiB /  12282MiB |      1%      Default |\n",
            "|                                         |                        |                  N/A |\n",
            "+-----------------------------------------+------------------------+----------------------+\n",
            "                                                                                         \n",
            "+-----------------------------------------------------------------------------------------+\n",
            "| Processes:                                                                              |\n",
            "|  GPU   GI   CI              PID   Type   Process name                        GPU Memory |\n",
            "|        ID   ID                                                               Usage      |\n",
            "|=========================================================================================|\n",
            "|    0   N/A  N/A              31      G   /Xwayland                             N/A      |\n",
            "|    0   N/A  N/A              33      G   /Xwayland                             N/A      |\n",
            "|    0   N/A  N/A            6996      C   /python3.11                           N/A      |\n",
            "+-----------------------------------------------------------------------------------------+\n"
          ]
        }
      ],
      "source": [
        "!nvidia-smi"
      ]
    },
    {
      "cell_type": "markdown",
      "metadata": {
        "id": "plHUxP_oeh2U"
      },
      "source": [
        "### Set Random Seed"
      ]
    },
    {
      "cell_type": "code",
      "execution_count": 2,
      "metadata": {
        "id": "Z3YIraV3ehgv"
      },
      "outputs": [],
      "source": [
        "set_seed(0)"
      ]
    },
    {
      "cell_type": "markdown",
      "metadata": {
        "id": "w4p3ErI1AaYq"
      },
      "source": [
        "# Prepare Data"
      ]
    },
    {
      "cell_type": "markdown",
      "metadata": {
        "id": "1J0xr161bREA"
      },
      "source": [
        "### Define Dataset"
      ]
    },
    {
      "cell_type": "code",
      "execution_count": 3,
      "metadata": {
        "id": "Bi9YvYn3uD32"
      },
      "outputs": [],
      "source": [
        "class PixelSequenceDataset(Dataset):\n",
        "    def __init__(self, data: List[List[int]], mode: str = \"train\"):\n",
        "        self.data = data\n",
        "        self.mode = mode\n",
        "\n",
        "    def __len__(self) -> int:\n",
        "        return len(self.data)\n",
        "\n",
        "    def __getitem__(self, idx: int) -> Union[Tuple[torch.Tensor, torch.Tensor], torch.Tensor]:\n",
        "        sequence = self.data[idx]\n",
        "        if self.mode == \"train\":\n",
        "            input_ids = torch.tensor(sequence[:-1], dtype=torch.long)\n",
        "            labels = torch.tensor(sequence[1:], dtype=torch.long)\n",
        "            return input_ids, labels\n",
        "        elif self.mode == \"dev\":\n",
        "            input_ids = torch.tensor(sequence[:-160], dtype=torch.long)\n",
        "            labels = torch.tensor(sequence[-160:], dtype=torch.long)\n",
        "            return input_ids, labels\n",
        "        elif self.mode == \"test\":\n",
        "            input_ids = torch.tensor(sequence, dtype=torch.long)\n",
        "            return input_ids\n",
        "        raise ValueError(f\"Invalid mode: {self.mode}. Choose from 'train', 'dev', or 'test'.\")"
      ]
    },
    {
      "cell_type": "markdown",
      "metadata": {
        "id": "zY6TJDuNbdTr"
      },
      "source": [
        "### Download Dataset & Prepare Dataloader"
      ]
    },
    {
      "cell_type": "code",
      "execution_count": 4,
      "metadata": {
        "id": "lHXfCPXoBEUD"
      },
      "outputs": [],
      "source": [
        "# Load the pokemon dataset from Hugging Face Hub\n",
        "pokemon_dataset = load_dataset(\"lca0503/ml2025-hw4-pokemon\")\n",
        "\n",
        "# Load the colormap from Hugging Face Hub\n",
        "colormap = list(load_dataset(\"lca0503/ml2025-hw4-colormap\")[\"train\"][\"color\"])\n",
        "\n",
        "# Define number of classes\n",
        "num_classes = len(colormap)\n",
        "\n",
        "# Define batch size\n",
        "batch_size = 16\n",
        "\n",
        "# === Prepare Dataset and DataLoader for Training ===\n",
        "train_dataset: PixelSequenceDataset = PixelSequenceDataset(\n",
        "    pokemon_dataset[\"train\"][\"pixel_color\"], mode=\"train\"\n",
        ")\n",
        "train_dataloader: DataLoader = DataLoader(\n",
        "    train_dataset, batch_size=batch_size, shuffle=True\n",
        ")\n",
        "\n",
        "# === Prepare Dataset and DataLoader for Validation ===\n",
        "dev_dataset: PixelSequenceDataset = PixelSequenceDataset(\n",
        "    pokemon_dataset[\"dev\"][\"pixel_color\"], mode=\"dev\"\n",
        ")\n",
        "dev_dataloader: DataLoader = DataLoader(\n",
        "    dev_dataset, batch_size=batch_size, shuffle=False\n",
        ")\n",
        "\n",
        "# === Prepare Dataset and DataLoader for Testing ===\n",
        "test_dataset: PixelSequenceDataset = PixelSequenceDataset(\n",
        "    pokemon_dataset[\"test\"][\"pixel_color\"], mode=\"test\"\n",
        ")\n",
        "test_dataloader: DataLoader = DataLoader(\n",
        "    test_dataset, batch_size=batch_size, shuffle=False\n",
        ")"
      ]
    },
    {
      "cell_type": "markdown",
      "metadata": {
        "id": "Ink91WB5BGxv"
      },
      "source": [
        "### Visualization"
      ]
    },
    {
      "cell_type": "code",
      "execution_count": 37,
      "metadata": {
        "id": "ARCMjCUfBGV9"
      },
      "outputs": [],
      "source": [
        "def pixel_to_image(pixel_color: List[int], colormap: List[List[int]]) -> Image.Image:\n",
        "    while len(pixel_color) < 400:\n",
        "        pixel_color.append(0)\n",
        "    pixel_data = [colormap[pixel] for pixel in pixel_color]\n",
        "    image_array = np.array(pixel_data, dtype=np.uint8).reshape(20, 20, 3)\n",
        "    image = Image.fromarray(image_array)\n",
        "    return image\n",
        "\n",
        "def show_images(images: List[Image.Image]) -> None:\n",
        "    num_images = min(96, len(images))\n",
        "    fig, axes = plt.subplots(6, 16, figsize=(16, 6))\n",
        "    axes = axes.flatten()\n",
        "    for i, ax in enumerate(axes):\n",
        "        if i < num_images:\n",
        "            ax.imshow(images[i])\n",
        "            ax.axis('off')\n",
        "        else:\n",
        "            ax.axis('off')\n",
        "    plt.tight_layout()\n",
        "    plt.show()"
      ]
    },
    {
      "cell_type": "code",
      "execution_count": 38,
      "metadata": {
        "id": "706fqI8NBJGm"
      },
      "outputs": [
        {
          "data": {
            "image/png": "[encoded data removed]",
            "text/plain": [
              "<Figure size 1600x600 with 96 Axes>"
            ]
          },
          "metadata": {},
          "output_type": "display_data"
        }
      ],
      "source": [
        "train_images = [pixel_to_image(data[\"pixel_color\"], colormap) for data in pokemon_dataset[\"train\"]]\n",
        "show_images(train_images)"
      ]
    },
    {
      "cell_type": "code",
      "execution_count": 55,
      "metadata": {},
      "outputs": [
        {
          "data": {
            "image/png": "[encoded data removed]",
            "text/plain": [
              "<Figure size 1600x600 with 96 Axes>"
            ]
          },
          "metadata": {},
          "output_type": "display_data"
        }
      ],
      "source": [
        "dev_images = [pixel_to_image(data[\"pixel_color\"], colormap) for data in pokemon_dataset[\"dev\"]]\n",
        "output_dir = '/workspace/generated'\n",
        "for idx, data in enumerate(pokemon_dataset[\"dev\"]):\n",
        "    img = pixel_to_image(data[\"pixel_color\"], colormap)\n",
        "    img.save(os.path.join(output_dir, f\"{idx:05d}.png\"))\n",
        "show_images(dev_images)"
      ]
    },
    {
      "cell_type": "code",
      "execution_count": 39,
      "metadata": {
        "id": "QtllXoTLBKXk"
      },
      "outputs": [
        {
          "data": {
            "image/png": "[encoded data removed]",
            "text/plain": [
              "<Figure size 1600x600 with 96 Axes>"
            ]
          },
          "metadata": {},
          "output_type": "display_data"
        }
      ],
      "source": [
        "test_images = [pixel_to_image(data[\"pixel_color\"], colormap) for data in pokemon_dataset[\"test\"]]\n",
        "show_images(test_images)"
      ]
    },
    {
      "cell_type": "markdown",
      "metadata": {
        "id": "wjbJUIxzBNEH"
      },
      "source": [
        "# Prepare Model"
      ]
    },
    {
      "cell_type": "markdown",
      "metadata": {
        "id": "o541odctzSc9"
      },
      "source": [
        "### Model Configuration\n",
        "Here, we define the model configuration, including the architecture and key hyperparameters such as the number of attention heads, layers, embedding size, and more.\n",
        "*   Hint 1: Adjust hyperparameters here for improved performance.\n",
        "*   Hint 2: Experiment with different model architectures, such as Llama, Mistral, or Qwen, to enhance performance.\n",
        "  * [LlamaConfig](https://huggingface.co/docs/transformers/model_doc/llama#transformers.LlamaConfig)\n",
        "  * [MistralConfig](https://huggingface.co/docs/transformers/model_doc/mistral#transformers.MistralConfig)\n",
        "  * [Qwen2Config](https://huggingface.co/docs/transformers/model_doc/qwen2#transformers.Qwen2Config)\n"
      ]
    },
    {
      "cell_type": "code",
      "execution_count": 5,
      "metadata": {
        "id": "pDpLtOZBzU3o"
      },
      "outputs": [],
      "source": [
        "qwen2_config = {\n",
        "    \"vocab_size\": num_classes,\n",
        "    \"hidden_size\": 384,                 # Larger hidden size for more capacity\n",
        "    \"intermediate_size\": 1024,          # Feed-forward layer size\n",
        "    \"num_hidden_layers\": 6,             # Deeper model\n",
        "    \"num_attention_heads\": 6,           # Number of attention heads\n",
        "    \"num_key_value_heads\": 6,           # Standard for Qwen2\n",
        "    \"max_position_embeddings\": 400,     # Max sequence length\n",
        "    \"initializer_range\": 0.02,\n",
        "    \"rms_norm_eps\": 1e-06,\n",
        "    \"use_cache\": True,\n",
        "    \"pad_token_id\": None,\n",
        "    \"bos_token_id\": None,\n",
        "    \"eos_token_id\": None,\n",
        "    \"tie_word_embeddings\": False,\n",
        "    \"attention_dropout\": 0.1,             # Moderate dropout\n",
        "}\n",
        "\n",
        "# Load Qwen2 model configuration from dictionary\n",
        "config = Qwen2Config.from_dict(qwen2_config)"
      ]
    },
    {
      "cell_type": "markdown",
      "metadata": {
        "id": "JCOELUm4ujej"
      },
      "source": [
        "### Load Model"
      ]
    },
    {
      "cell_type": "code",
      "execution_count": 6,
      "metadata": {
        "id": "4U4JxNF5CFG6"
      },
      "outputs": [
        {
          "name": "stdout",
          "output_type": "stream",
          "text": [
            "Qwen2ForCausalLM(\n",
            "  (model): Qwen2Model(\n",
            "    (embed_tokens): Embedding(167, 384)\n",
            "    (layers): ModuleList(\n",
            "      (0-5): 6 x Qwen2DecoderLayer(\n",
            "        (self_attn): Qwen2Attention(\n",
            "          (q_proj): Linear(in_features=384, out_features=384, bias=True)\n",
            "          (k_proj): Linear(in_features=384, out_features=384, bias=True)\n",
            "          (v_proj): Linear(in_features=384, out_features=384, bias=True)\n",
            "          (o_proj): Linear(in_features=384, out_features=384, bias=False)\n",
            "        )\n",
            "        (mlp): Qwen2MLP(\n",
            "          (gate_proj): Linear(in_features=384, out_features=1024, bias=False)\n",
            "          (up_proj): Linear(in_features=384, out_features=1024, bias=False)\n",
            "          (down_proj): Linear(in_features=1024, out_features=384, bias=False)\n",
            "          (act_fn): SiLU()\n",
            "        )\n",
            "        (input_layernorm): Qwen2RMSNorm((384,), eps=1e-06)\n",
            "        (post_attention_layernorm): Qwen2RMSNorm((384,), eps=1e-06)\n",
            "      )\n",
            "    )\n",
            "    (norm): Qwen2RMSNorm((384,), eps=1e-06)\n",
            "    (rotary_emb): Qwen2RotaryEmbedding()\n",
            "  )\n",
            "  (lm_head): Linear(in_features=384, out_features=167, bias=False)\n",
            ")\n",
            "Trainable Parameters: 10,756,992\n"
          ]
        }
      ],
      "source": [
        "model = AutoModelForCausalLM.from_config(config)\n",
        "print(model)\n",
        "trainable_params = sum(p.numel() for p in model.parameters() if p.requires_grad)\n",
        "print(f\"Trainable Parameters: {trainable_params:,}\")"
      ]
    },
    {
      "cell_type": "markdown",
      "metadata": {
        "id": "flJizztpCT01"
      },
      "source": [
        "# Train and Inference"
      ]
    },
    {
      "cell_type": "markdown",
      "metadata": {
        "id": "d63rxnsCeHa9"
      },
      "source": [
        "### Training Arguments\n",
        "Here, we define the number of epochs for training, the learning rate, the optimizer, and the loss function.\n",
        "*   Hint 3: Adjust the number of epochs and learning rate here to improve performance."
      ]
    },
    {
      "cell_type": "code",
      "execution_count": 7,
      "metadata": {
        "id": "oJu31QhHeKBj"
      },
      "outputs": [],
      "source": [
        "from torch.optim.lr_scheduler import CosineAnnealingLR\n",
        "\n",
        "epochs = 50\n",
        "learning_rate = 3e-4 # Lower learning rate for larger model\n",
        "grad_clip = 1.0      # Gradient clipping value\n",
        "\n",
        "device = torch.device(\"cuda\" if torch.cuda.is_available() else \"cpu\")\n",
        "save_dir = \"checkpoints\"\n",
        "\n",
        "criterion = nn.CrossEntropyLoss()\n",
        "optimizer = optim.AdamW(model.parameters(), lr=learning_rate, weight_decay=0.1)\n",
        "scheduler = CosineAnnealingLR(optimizer, T_max=epochs, eta_min=1e-6)"
      ]
    },
    {
      "cell_type": "markdown",
      "metadata": {
        "id": "Xs2kjoD4d_bJ"
      },
      "source": [
        "### Save Model Function"
      ]
    },
    {
      "cell_type": "code",
      "execution_count": 43,
      "metadata": {
        "id": "ZakIXlw_NtDw"
      },
      "outputs": [],
      "source": [
        "def save_model(model: torch.nn.Module, optimizer: torch.optim.Optimizer, epoch: int, metric: float, save_dir: str, filename: str = \"best_model.pth\") -> None:\n",
        "    save_path = os.path.join(save_dir, filename)\n",
        "    torch.save({\n",
        "        'epoch': epoch + 1,\n",
        "        'model_state_dict': model.state_dict(),\n",
        "        'optimizer_state_dict': optimizer.state_dict(),\n",
        "        'metric_value': metric\n",
        "    }, save_path)\n",
        "    print(f\"Model saved at {save_path} (Accuracy: {metric:.4f}, Epoch: {epoch + 1})\")"
      ]
    },
    {
      "cell_type": "markdown",
      "metadata": {},
      "source": [
        "### Train\n",
        "\n",
        "We save the checkpoint with the lowest training loss since validation set reconstruction accuracy doesn't directly reflect the model's image generation quality.\n",
        "*   Hint 4: Train a classifier to check if an image looks like a Pokémon or not. (Optional)"
      ]
    },
    {
      "cell_type": "code",
      "execution_count": 44,
      "metadata": {
        "id": "e1KHQ2UyCNh7"
      },
      "outputs": [
        {
          "name": "stderr",
          "output_type": "stream",
          "text": [
            "Training Epoch 1/50: 100%|██████████| 40/40 [00:01<00:00, 20.44it/s]\n"
          ]
        },
        {
          "name": "stdout",
          "output_type": "stream",
          "text": [
            "Epoch 1/50, Loss: 3.2642, LR: 0.000300\n"
          ]
        },
        {
          "name": "stderr",
          "output_type": "stream",
          "text": [
            "Evaluating: 100%|██████████| 5/5 [00:04<00:00,  1.19it/s]\n"
          ]
        },
        {
          "name": "stdout",
          "output_type": "stream",
          "text": [
            "Epoch 1/50, Reconstruction Accuracy: 0.3605\n",
            "Model saved at checkpoints/best_model.pth (Accuracy: 0.3605, Epoch: 1)\n"
          ]
        },
        {
          "name": "stderr",
          "output_type": "stream",
          "text": [
            "Training Epoch 2/50: 100%|██████████| 40/40 [00:01<00:00, 22.02it/s]\n"
          ]
        },
        {
          "name": "stdout",
          "output_type": "stream",
          "text": [
            "Epoch 2/50, Loss: 2.4530, LR: 0.000300\n"
          ]
        },
        {
          "name": "stderr",
          "output_type": "stream",
          "text": [
            "Evaluating: 100%|██████████| 5/5 [00:04<00:00,  1.08it/s]\n"
          ]
        },
        {
          "name": "stdout",
          "output_type": "stream",
          "text": [
            "Epoch 2/50, Reconstruction Accuracy: 0.2933\n"
          ]
        },
        {
          "name": "stderr",
          "output_type": "stream",
          "text": [
            "Training Epoch 3/50: 100%|██████████| 40/40 [00:01<00:00, 21.90it/s]\n"
          ]
        },
        {
          "name": "stdout",
          "output_type": "stream",
          "text": [
            "Epoch 3/50, Loss: 1.9544, LR: 0.000299\n"
          ]
        },
        {
          "name": "stderr",
          "output_type": "stream",
          "text": [
            "Evaluating: 100%|██████████| 5/5 [00:04<00:00,  1.13it/s]\n"
          ]
        },
        {
          "name": "stdout",
          "output_type": "stream",
          "text": [
            "Epoch 3/50, Reconstruction Accuracy: 0.1728\n"
          ]
        },
        {
          "name": "stderr",
          "output_type": "stream",
          "text": [
            "Training Epoch 4/50: 100%|██████████| 40/40 [00:01<00:00, 22.49it/s]\n"
          ]
        },
        {
          "name": "stdout",
          "output_type": "stream",
          "text": [
            "Epoch 4/50, Loss: 1.7033, LR: 0.000297\n"
          ]
        },
        {
          "name": "stderr",
          "output_type": "stream",
          "text": [
            "Evaluating: 100%|██████████| 5/5 [00:04<00:00,  1.11it/s]\n"
          ]
        },
        {
          "name": "stdout",
          "output_type": "stream",
          "text": [
            "Epoch 4/50, Reconstruction Accuracy: 0.2713\n"
          ]
        },
        {
          "name": "stderr",
          "output_type": "stream",
          "text": [
            "Training Epoch 5/50: 100%|██████████| 40/40 [00:01<00:00, 22.64it/s]\n"
          ]
        },
        {
          "name": "stdout",
          "output_type": "stream",
          "text": [
            "Epoch 5/50, Loss: 1.5652, LR: 0.000295\n"
          ]
        },
        {
          "name": "stderr",
          "output_type": "stream",
          "text": [
            "Evaluating: 100%|██████████| 5/5 [00:04<00:00,  1.20it/s]\n"
          ]
        },
        {
          "name": "stdout",
          "output_type": "stream",
          "text": [
            "Epoch 5/50, Reconstruction Accuracy: 0.3157\n"
          ]
        },
        {
          "name": "stderr",
          "output_type": "stream",
          "text": [
            "Training Epoch 6/50: 100%|██████████| 40/40 [00:01<00:00, 22.68it/s]\n"
          ]
        },
        {
          "name": "stdout",
          "output_type": "stream",
          "text": [
            "Epoch 6/50, Loss: 1.4683, LR: 0.000293\n"
          ]
        },
        {
          "name": "stderr",
          "output_type": "stream",
          "text": [
            "Evaluating: 100%|██████████| 5/5 [00:04<00:00,  1.16it/s]\n"
          ]
        },
        {
          "name": "stdout",
          "output_type": "stream",
          "text": [
            "Epoch 6/50, Reconstruction Accuracy: 0.3561\n"
          ]
        },
        {
          "name": "stderr",
          "output_type": "stream",
          "text": [
            "Training Epoch 7/50: 100%|██████████| 40/40 [00:01<00:00, 22.70it/s]\n"
          ]
        },
        {
          "name": "stdout",
          "output_type": "stream",
          "text": [
            "Epoch 7/50, Loss: 1.4089, LR: 0.000290\n"
          ]
        },
        {
          "name": "stderr",
          "output_type": "stream",
          "text": [
            "Evaluating: 100%|██████████| 5/5 [00:04<00:00,  1.16it/s]\n"
          ]
        },
        {
          "name": "stdout",
          "output_type": "stream",
          "text": [
            "Epoch 7/50, Reconstruction Accuracy: 0.3469\n"
          ]
        },
        {
          "name": "stderr",
          "output_type": "stream",
          "text": [
            "Training Epoch 8/50: 100%|██████████| 40/40 [00:01<00:00, 22.50it/s]\n"
          ]
        },
        {
          "name": "stdout",
          "output_type": "stream",
          "text": [
            "Epoch 8/50, Loss: 1.3472, LR: 0.000286\n"
          ]
        },
        {
          "name": "stderr",
          "output_type": "stream",
          "text": [
            "Evaluating: 100%|██████████| 5/5 [00:04<00:00,  1.17it/s]\n"
          ]
        },
        {
          "name": "stdout",
          "output_type": "stream",
          "text": [
            "Epoch 8/50, Reconstruction Accuracy: 0.3359\n"
          ]
        },
        {
          "name": "stderr",
          "output_type": "stream",
          "text": [
            "Training Epoch 9/50: 100%|██████████| 40/40 [00:01<00:00, 22.55it/s]\n"
          ]
        },
        {
          "name": "stdout",
          "output_type": "stream",
          "text": [
            "Epoch 9/50, Loss: 1.3022, LR: 0.000282\n"
          ]
        },
        {
          "name": "stderr",
          "output_type": "stream",
          "text": [
            "Evaluating: 100%|██████████| 5/5 [00:04<00:00,  1.24it/s]\n"
          ]
        },
        {
          "name": "stdout",
          "output_type": "stream",
          "text": [
            "Epoch 9/50, Reconstruction Accuracy: 0.3480\n"
          ]
        },
        {
          "name": "stderr",
          "output_type": "stream",
          "text": [
            "Training Epoch 10/50: 100%|██████████| 40/40 [00:01<00:00, 22.62it/s]\n"
          ]
        },
        {
          "name": "stdout",
          "output_type": "stream",
          "text": [
            "Epoch 10/50, Loss: 1.2645, LR: 0.000277\n"
          ]
        },
        {
          "name": "stderr",
          "output_type": "stream",
          "text": [
            "Evaluating: 100%|██████████| 5/5 [00:04<00:00,  1.24it/s]\n"
          ]
        },
        {
          "name": "stdout",
          "output_type": "stream",
          "text": [
            "Epoch 10/50, Reconstruction Accuracy: 0.3615\n",
            "Model saved at checkpoints/best_model.pth (Accuracy: 0.3615, Epoch: 10)\n"
          ]
        },
        {
          "name": "stderr",
          "output_type": "stream",
          "text": [
            "Training Epoch 11/50: 100%|██████████| 40/40 [00:01<00:00, 22.55it/s]\n"
          ]
        },
        {
          "name": "stdout",
          "output_type": "stream",
          "text": [
            "Epoch 11/50, Loss: 1.2121, LR: 0.000271\n"
          ]
        },
        {
          "name": "stderr",
          "output_type": "stream",
          "text": [
            "Evaluating: 100%|██████████| 5/5 [00:04<00:00,  1.17it/s]\n"
          ]
        },
        {
          "name": "stdout",
          "output_type": "stream",
          "text": [
            "Epoch 11/50, Reconstruction Accuracy: 0.3376\n"
          ]
        },
        {
          "name": "stderr",
          "output_type": "stream",
          "text": [
            "Training Epoch 12/50: 100%|██████████| 40/40 [00:01<00:00, 22.63it/s]\n"
          ]
        },
        {
          "name": "stdout",
          "output_type": "stream",
          "text": [
            "Epoch 12/50, Loss: 1.1669, LR: 0.000266\n"
          ]
        },
        {
          "name": "stderr",
          "output_type": "stream",
          "text": [
            "Evaluating: 100%|██████████| 5/5 [00:04<00:00,  1.17it/s]\n"
          ]
        },
        {
          "name": "stdout",
          "output_type": "stream",
          "text": [
            "Epoch 12/50, Reconstruction Accuracy: 0.3713\n",
            "Model saved at checkpoints/best_model.pth (Accuracy: 0.3713, Epoch: 12)\n"
          ]
        },
        {
          "name": "stderr",
          "output_type": "stream",
          "text": [
            "Training Epoch 13/50: 100%|██████████| 40/40 [00:01<00:00, 22.54it/s]\n"
          ]
        },
        {
          "name": "stdout",
          "output_type": "stream",
          "text": [
            "Epoch 13/50, Loss: 1.1211, LR: 0.000259\n"
          ]
        },
        {
          "name": "stderr",
          "output_type": "stream",
          "text": [
            "Evaluating: 100%|██████████| 5/5 [00:04<00:00,  1.18it/s]\n"
          ]
        },
        {
          "name": "stdout",
          "output_type": "stream",
          "text": [
            "Epoch 13/50, Reconstruction Accuracy: 0.3587\n"
          ]
        },
        {
          "name": "stderr",
          "output_type": "stream",
          "text": [
            "Training Epoch 14/50: 100%|██████████| 40/40 [00:01<00:00, 22.54it/s]\n"
          ]
        },
        {
          "name": "stdout",
          "output_type": "stream",
          "text": [
            "Epoch 14/50, Loss: 1.0875, LR: 0.000253\n"
          ]
        },
        {
          "name": "stderr",
          "output_type": "stream",
          "text": [
            "Evaluating: 100%|██████████| 5/5 [00:04<00:00,  1.21it/s]\n"
          ]
        },
        {
          "name": "stdout",
          "output_type": "stream",
          "text": [
            "Epoch 14/50, Reconstruction Accuracy: 0.3809\n",
            "Model saved at checkpoints/best_model.pth (Accuracy: 0.3809, Epoch: 14)\n"
          ]
        },
        {
          "name": "stderr",
          "output_type": "stream",
          "text": [
            "Training Epoch 15/50: 100%|██████████| 40/40 [00:01<00:00, 22.43it/s]\n"
          ]
        },
        {
          "name": "stdout",
          "output_type": "stream",
          "text": [
            "Epoch 15/50, Loss: 1.0342, LR: 0.000246\n"
          ]
        },
        {
          "name": "stderr",
          "output_type": "stream",
          "text": [
            "Evaluating: 100%|██████████| 5/5 [00:04<00:00,  1.19it/s]\n"
          ]
        },
        {
          "name": "stdout",
          "output_type": "stream",
          "text": [
            "Epoch 15/50, Reconstruction Accuracy: 0.3452\n"
          ]
        },
        {
          "name": "stderr",
          "output_type": "stream",
          "text": [
            "Training Epoch 16/50: 100%|██████████| 40/40 [00:01<00:00, 22.64it/s]\n"
          ]
        },
        {
          "name": "stdout",
          "output_type": "stream",
          "text": [
            "Epoch 16/50, Loss: 0.9840, LR: 0.000238\n"
          ]
        },
        {
          "name": "stderr",
          "output_type": "stream",
          "text": [
            "Evaluating: 100%|██████████| 5/5 [00:04<00:00,  1.18it/s]\n"
          ]
        },
        {
          "name": "stdout",
          "output_type": "stream",
          "text": [
            "Epoch 16/50, Reconstruction Accuracy: 0.3613\n"
          ]
        },
        {
          "name": "stderr",
          "output_type": "stream",
          "text": [
            "Training Epoch 17/50: 100%|██████████| 40/40 [00:01<00:00, 22.74it/s]\n"
          ]
        },
        {
          "name": "stdout",
          "output_type": "stream",
          "text": [
            "Epoch 17/50, Loss: 0.9311, LR: 0.000231\n"
          ]
        },
        {
          "name": "stderr",
          "output_type": "stream",
          "text": [
            "Evaluating: 100%|██████████| 5/5 [00:04<00:00,  1.21it/s]\n"
          ]
        },
        {
          "name": "stdout",
          "output_type": "stream",
          "text": [
            "Epoch 17/50, Reconstruction Accuracy: 0.3525\n"
          ]
        },
        {
          "name": "stderr",
          "output_type": "stream",
          "text": [
            "Training Epoch 18/50: 100%|██████████| 40/40 [00:01<00:00, 22.63it/s]\n"
          ]
        },
        {
          "name": "stdout",
          "output_type": "stream",
          "text": [
            "Epoch 18/50, Loss: 0.8732, LR: 0.000223\n"
          ]
        },
        {
          "name": "stderr",
          "output_type": "stream",
          "text": [
            "Evaluating: 100%|██████████| 5/5 [00:04<00:00,  1.18it/s]\n"
          ]
        },
        {
          "name": "stdout",
          "output_type": "stream",
          "text": [
            "Epoch 18/50, Reconstruction Accuracy: 0.3602\n"
          ]
        },
        {
          "name": "stderr",
          "output_type": "stream",
          "text": [
            "Training Epoch 19/50: 100%|██████████| 40/40 [00:01<00:00, 22.70it/s]\n"
          ]
        },
        {
          "name": "stdout",
          "output_type": "stream",
          "text": [
            "Epoch 19/50, Loss: 0.8129, LR: 0.000214\n"
          ]
        },
        {
          "name": "stderr",
          "output_type": "stream",
          "text": [
            "Evaluating: 100%|██████████| 5/5 [00:04<00:00,  1.17it/s]\n"
          ]
        },
        {
          "name": "stdout",
          "output_type": "stream",
          "text": [
            "Epoch 19/50, Reconstruction Accuracy: 0.3673\n"
          ]
        },
        {
          "name": "stderr",
          "output_type": "stream",
          "text": [
            "Training Epoch 20/50: 100%|██████████| 40/40 [00:01<00:00, 22.66it/s]\n"
          ]
        },
        {
          "name": "stdout",
          "output_type": "stream",
          "text": [
            "Epoch 20/50, Loss: 0.7562, LR: 0.000206\n"
          ]
        },
        {
          "name": "stderr",
          "output_type": "stream",
          "text": [
            "Evaluating: 100%|██████████| 5/5 [00:04<00:00,  1.21it/s]\n"
          ]
        },
        {
          "name": "stdout",
          "output_type": "stream",
          "text": [
            "Epoch 20/50, Reconstruction Accuracy: 0.3759\n"
          ]
        },
        {
          "name": "stderr",
          "output_type": "stream",
          "text": [
            "Training Epoch 21/50: 100%|██████████| 40/40 [00:01<00:00, 22.60it/s]\n"
          ]
        },
        {
          "name": "stdout",
          "output_type": "stream",
          "text": [
            "Epoch 21/50, Loss: 0.6942, LR: 0.000197\n"
          ]
        },
        {
          "name": "stderr",
          "output_type": "stream",
          "text": [
            "Evaluating: 100%|██████████| 5/5 [00:04<00:00,  1.18it/s]\n"
          ]
        },
        {
          "name": "stdout",
          "output_type": "stream",
          "text": [
            "Epoch 21/50, Reconstruction Accuracy: 0.3516\n"
          ]
        },
        {
          "name": "stderr",
          "output_type": "stream",
          "text": [
            "Training Epoch 22/50: 100%|██████████| 40/40 [00:01<00:00, 22.55it/s]\n"
          ]
        },
        {
          "name": "stdout",
          "output_type": "stream",
          "text": [
            "Epoch 22/50, Loss: 0.6412, LR: 0.000188\n"
          ]
        },
        {
          "name": "stderr",
          "output_type": "stream",
          "text": [
            "Evaluating: 100%|██████████| 5/5 [00:04<00:00,  1.17it/s]\n"
          ]
        },
        {
          "name": "stdout",
          "output_type": "stream",
          "text": [
            "Epoch 22/50, Reconstruction Accuracy: 0.3527\n"
          ]
        },
        {
          "name": "stderr",
          "output_type": "stream",
          "text": [
            "Training Epoch 23/50: 100%|██████████| 40/40 [00:01<00:00, 22.54it/s]\n"
          ]
        },
        {
          "name": "stdout",
          "output_type": "stream",
          "text": [
            "Epoch 23/50, Loss: 0.5820, LR: 0.000179\n"
          ]
        },
        {
          "name": "stderr",
          "output_type": "stream",
          "text": [
            "Evaluating: 100%|██████████| 5/5 [00:04<00:00,  1.08it/s]\n"
          ]
        },
        {
          "name": "stdout",
          "output_type": "stream",
          "text": [
            "Epoch 23/50, Reconstruction Accuracy: 0.3679\n"
          ]
        },
        {
          "name": "stderr",
          "output_type": "stream",
          "text": [
            "Training Epoch 24/50: 100%|██████████| 40/40 [00:01<00:00, 22.31it/s]\n"
          ]
        },
        {
          "name": "stdout",
          "output_type": "stream",
          "text": [
            "Epoch 24/50, Loss: 0.5376, LR: 0.000169\n"
          ]
        },
        {
          "name": "stderr",
          "output_type": "stream",
          "text": [
            "Evaluating: 100%|██████████| 5/5 [00:04<00:00,  1.06it/s]\n"
          ]
        },
        {
          "name": "stdout",
          "output_type": "stream",
          "text": [
            "Epoch 24/50, Reconstruction Accuracy: 0.3596\n"
          ]
        },
        {
          "name": "stderr",
          "output_type": "stream",
          "text": [
            "Training Epoch 25/50: 100%|██████████| 40/40 [00:01<00:00, 22.46it/s]\n"
          ]
        },
        {
          "name": "stdout",
          "output_type": "stream",
          "text": [
            "Epoch 25/50, Loss: 0.4870, LR: 0.000160\n"
          ]
        },
        {
          "name": "stderr",
          "output_type": "stream",
          "text": [
            "Evaluating: 100%|██████████| 5/5 [00:04<00:00,  1.06it/s]\n"
          ]
        },
        {
          "name": "stdout",
          "output_type": "stream",
          "text": [
            "Epoch 25/50, Reconstruction Accuracy: 0.3568\n"
          ]
        },
        {
          "name": "stderr",
          "output_type": "stream",
          "text": [
            "Training Epoch 26/50: 100%|██████████| 40/40 [00:01<00:00, 22.56it/s]\n"
          ]
        },
        {
          "name": "stdout",
          "output_type": "stream",
          "text": [
            "Epoch 26/50, Loss: 0.4457, LR: 0.000150\n"
          ]
        },
        {
          "name": "stderr",
          "output_type": "stream",
          "text": [
            "Evaluating: 100%|██████████| 5/5 [00:04<00:00,  1.11it/s]\n"
          ]
        },
        {
          "name": "stdout",
          "output_type": "stream",
          "text": [
            "Epoch 26/50, Reconstruction Accuracy: 0.3711\n"
          ]
        },
        {
          "name": "stderr",
          "output_type": "stream",
          "text": [
            "Training Epoch 27/50: 100%|██████████| 40/40 [00:01<00:00, 22.46it/s]\n"
          ]
        },
        {
          "name": "stdout",
          "output_type": "stream",
          "text": [
            "Epoch 27/50, Loss: 0.4050, LR: 0.000141\n"
          ]
        },
        {
          "name": "stderr",
          "output_type": "stream",
          "text": [
            "Evaluating: 100%|██████████| 5/5 [00:04<00:00,  1.03it/s]\n"
          ]
        },
        {
          "name": "stdout",
          "output_type": "stream",
          "text": [
            "Epoch 27/50, Reconstruction Accuracy: 0.3698\n"
          ]
        },
        {
          "name": "stderr",
          "output_type": "stream",
          "text": [
            "Training Epoch 28/50: 100%|██████████| 40/40 [00:01<00:00, 22.42it/s]\n"
          ]
        },
        {
          "name": "stdout",
          "output_type": "stream",
          "text": [
            "Epoch 28/50, Loss: 0.3650, LR: 0.000132\n"
          ]
        },
        {
          "name": "stderr",
          "output_type": "stream",
          "text": [
            "Evaluating: 100%|██████████| 5/5 [00:05<00:00,  1.08s/it]\n"
          ]
        },
        {
          "name": "stdout",
          "output_type": "stream",
          "text": [
            "Epoch 28/50, Reconstruction Accuracy: 0.3710\n"
          ]
        },
        {
          "name": "stderr",
          "output_type": "stream",
          "text": [
            "Training Epoch 29/50: 100%|██████████| 40/40 [00:01<00:00, 22.35it/s]\n"
          ]
        },
        {
          "name": "stdout",
          "output_type": "stream",
          "text": [
            "Epoch 29/50, Loss: 0.3283, LR: 0.000122\n"
          ]
        },
        {
          "name": "stderr",
          "output_type": "stream",
          "text": [
            "Evaluating: 100%|██████████| 5/5 [00:04<00:00,  1.07it/s]\n"
          ]
        },
        {
          "name": "stdout",
          "output_type": "stream",
          "text": [
            "Epoch 29/50, Reconstruction Accuracy: 0.3738\n"
          ]
        },
        {
          "name": "stderr",
          "output_type": "stream",
          "text": [
            "Training Epoch 30/50: 100%|██████████| 40/40 [00:01<00:00, 22.53it/s]\n"
          ]
        },
        {
          "name": "stdout",
          "output_type": "stream",
          "text": [
            "Epoch 30/50, Loss: 0.2994, LR: 0.000113\n"
          ]
        },
        {
          "name": "stderr",
          "output_type": "stream",
          "text": [
            "Evaluating: 100%|██████████| 5/5 [00:04<00:00,  1.02it/s]\n"
          ]
        },
        {
          "name": "stdout",
          "output_type": "stream",
          "text": [
            "Epoch 30/50, Reconstruction Accuracy: 0.3655\n"
          ]
        },
        {
          "name": "stderr",
          "output_type": "stream",
          "text": [
            "Training Epoch 31/50: 100%|██████████| 40/40 [00:01<00:00, 21.98it/s]\n"
          ]
        },
        {
          "name": "stdout",
          "output_type": "stream",
          "text": [
            "Epoch 31/50, Loss: 0.2719, LR: 0.000104\n"
          ]
        },
        {
          "name": "stderr",
          "output_type": "stream",
          "text": [
            "Evaluating: 100%|██████████| 5/5 [00:04<00:00,  1.17it/s]\n"
          ]
        },
        {
          "name": "stdout",
          "output_type": "stream",
          "text": [
            "Epoch 31/50, Reconstruction Accuracy: 0.3639\n"
          ]
        },
        {
          "name": "stderr",
          "output_type": "stream",
          "text": [
            "Training Epoch 32/50: 100%|██████████| 40/40 [00:01<00:00, 22.68it/s]\n"
          ]
        },
        {
          "name": "stdout",
          "output_type": "stream",
          "text": [
            "Epoch 32/50, Loss: 0.2464, LR: 0.000095\n"
          ]
        },
        {
          "name": "stderr",
          "output_type": "stream",
          "text": [
            "Evaluating: 100%|██████████| 5/5 [00:04<00:00,  1.18it/s]\n"
          ]
        },
        {
          "name": "stdout",
          "output_type": "stream",
          "text": [
            "Epoch 32/50, Reconstruction Accuracy: 0.3582\n"
          ]
        },
        {
          "name": "stderr",
          "output_type": "stream",
          "text": [
            "Training Epoch 33/50: 100%|██████████| 40/40 [00:01<00:00, 22.69it/s]\n"
          ]
        },
        {
          "name": "stdout",
          "output_type": "stream",
          "text": [
            "Epoch 33/50, Loss: 0.2238, LR: 0.000087\n"
          ]
        },
        {
          "name": "stderr",
          "output_type": "stream",
          "text": [
            "Evaluating: 100%|██████████| 5/5 [00:04<00:00,  1.17it/s]\n"
          ]
        },
        {
          "name": "stdout",
          "output_type": "stream",
          "text": [
            "Epoch 33/50, Reconstruction Accuracy: 0.3598\n"
          ]
        },
        {
          "name": "stderr",
          "output_type": "stream",
          "text": [
            "Training Epoch 34/50: 100%|██████████| 40/40 [00:01<00:00, 22.47it/s]\n"
          ]
        },
        {
          "name": "stdout",
          "output_type": "stream",
          "text": [
            "Epoch 34/50, Loss: 0.2025, LR: 0.000078\n"
          ]
        },
        {
          "name": "stderr",
          "output_type": "stream",
          "text": [
            "Evaluating: 100%|██████████| 5/5 [00:04<00:00,  1.13it/s]\n"
          ]
        },
        {
          "name": "stdout",
          "output_type": "stream",
          "text": [
            "Epoch 34/50, Reconstruction Accuracy: 0.3673\n"
          ]
        },
        {
          "name": "stderr",
          "output_type": "stream",
          "text": [
            "Training Epoch 35/50: 100%|██████████| 40/40 [00:01<00:00, 22.31it/s]\n"
          ]
        },
        {
          "name": "stdout",
          "output_type": "stream",
          "text": [
            "Epoch 35/50, Loss: 0.1845, LR: 0.000070\n"
          ]
        },
        {
          "name": "stderr",
          "output_type": "stream",
          "text": [
            "Evaluating: 100%|██████████| 5/5 [00:04<00:00,  1.13it/s]\n"
          ]
        },
        {
          "name": "stdout",
          "output_type": "stream",
          "text": [
            "Epoch 35/50, Reconstruction Accuracy: 0.3598\n"
          ]
        },
        {
          "name": "stderr",
          "output_type": "stream",
          "text": [
            "Training Epoch 36/50: 100%|██████████| 40/40 [00:01<00:00, 22.43it/s]\n"
          ]
        },
        {
          "name": "stdout",
          "output_type": "stream",
          "text": [
            "Epoch 36/50, Loss: 0.1701, LR: 0.000063\n"
          ]
        },
        {
          "name": "stderr",
          "output_type": "stream",
          "text": [
            "Evaluating: 100%|██████████| 5/5 [00:04<00:00,  1.10it/s]\n"
          ]
        },
        {
          "name": "stdout",
          "output_type": "stream",
          "text": [
            "Epoch 36/50, Reconstruction Accuracy: 0.3627\n"
          ]
        },
        {
          "name": "stderr",
          "output_type": "stream",
          "text": [
            "Training Epoch 37/50: 100%|██████████| 40/40 [00:01<00:00, 22.57it/s]\n"
          ]
        },
        {
          "name": "stdout",
          "output_type": "stream",
          "text": [
            "Epoch 37/50, Loss: 0.1541, LR: 0.000055\n"
          ]
        },
        {
          "name": "stderr",
          "output_type": "stream",
          "text": [
            "Evaluating: 100%|██████████| 5/5 [00:04<00:00,  1.05it/s]\n"
          ]
        },
        {
          "name": "stdout",
          "output_type": "stream",
          "text": [
            "Epoch 37/50, Reconstruction Accuracy: 0.3702\n"
          ]
        },
        {
          "name": "stderr",
          "output_type": "stream",
          "text": [
            "Training Epoch 38/50: 100%|██████████| 40/40 [00:01<00:00, 22.56it/s]\n"
          ]
        },
        {
          "name": "stdout",
          "output_type": "stream",
          "text": [
            "Epoch 38/50, Loss: 0.1419, LR: 0.000048\n"
          ]
        },
        {
          "name": "stderr",
          "output_type": "stream",
          "text": [
            "Evaluating: 100%|██████████| 5/5 [00:04<00:00,  1.03it/s]\n"
          ]
        },
        {
          "name": "stdout",
          "output_type": "stream",
          "text": [
            "Epoch 38/50, Reconstruction Accuracy: 0.3594\n"
          ]
        },
        {
          "name": "stderr",
          "output_type": "stream",
          "text": [
            "Training Epoch 39/50: 100%|██████████| 40/40 [00:01<00:00, 22.63it/s]\n"
          ]
        },
        {
          "name": "stdout",
          "output_type": "stream",
          "text": [
            "Epoch 39/50, Loss: 0.1324, LR: 0.000042\n"
          ]
        },
        {
          "name": "stderr",
          "output_type": "stream",
          "text": [
            "Evaluating: 100%|██████████| 5/5 [00:04<00:00,  1.09it/s]\n"
          ]
        },
        {
          "name": "stdout",
          "output_type": "stream",
          "text": [
            "Epoch 39/50, Reconstruction Accuracy: 0.3628\n"
          ]
        },
        {
          "name": "stderr",
          "output_type": "stream",
          "text": [
            "Training Epoch 40/50: 100%|██████████| 40/40 [00:01<00:00, 22.38it/s]\n"
          ]
        },
        {
          "name": "stdout",
          "output_type": "stream",
          "text": [
            "Epoch 40/50, Loss: 0.1234, LR: 0.000035\n"
          ]
        },
        {
          "name": "stderr",
          "output_type": "stream",
          "text": [
            "Evaluating: 100%|██████████| 5/5 [00:04<00:00,  1.08it/s]\n"
          ]
        },
        {
          "name": "stdout",
          "output_type": "stream",
          "text": [
            "Epoch 40/50, Reconstruction Accuracy: 0.3616\n"
          ]
        },
        {
          "name": "stderr",
          "output_type": "stream",
          "text": [
            "Training Epoch 41/50: 100%|██████████| 40/40 [00:01<00:00, 22.77it/s]\n"
          ]
        },
        {
          "name": "stdout",
          "output_type": "stream",
          "text": [
            "Epoch 41/50, Loss: 0.1153, LR: 0.000030\n"
          ]
        },
        {
          "name": "stderr",
          "output_type": "stream",
          "text": [
            "Evaluating: 100%|██████████| 5/5 [00:04<00:00,  1.10it/s]\n"
          ]
        },
        {
          "name": "stdout",
          "output_type": "stream",
          "text": [
            "Epoch 41/50, Reconstruction Accuracy: 0.3631\n"
          ]
        },
        {
          "name": "stderr",
          "output_type": "stream",
          "text": [
            "Training Epoch 42/50: 100%|██████████| 40/40 [00:01<00:00, 22.26it/s]\n"
          ]
        },
        {
          "name": "stdout",
          "output_type": "stream",
          "text": [
            "Epoch 42/50, Loss: 0.1083, LR: 0.000024\n"
          ]
        },
        {
          "name": "stderr",
          "output_type": "stream",
          "text": [
            "Evaluating: 100%|██████████| 5/5 [00:05<00:00,  1.00s/it]\n"
          ]
        },
        {
          "name": "stdout",
          "output_type": "stream",
          "text": [
            "Epoch 42/50, Reconstruction Accuracy: 0.3704\n"
          ]
        },
        {
          "name": "stderr",
          "output_type": "stream",
          "text": [
            "Training Epoch 43/50: 100%|██████████| 40/40 [00:01<00:00, 23.08it/s]\n"
          ]
        },
        {
          "name": "stdout",
          "output_type": "stream",
          "text": [
            "Epoch 43/50, Loss: 0.1025, LR: 0.000019\n"
          ]
        },
        {
          "name": "stderr",
          "output_type": "stream",
          "text": [
            "Evaluating: 100%|██████████| 5/5 [00:04<00:00,  1.10it/s]\n"
          ]
        },
        {
          "name": "stdout",
          "output_type": "stream",
          "text": [
            "Epoch 43/50, Reconstruction Accuracy: 0.3660\n"
          ]
        },
        {
          "name": "stderr",
          "output_type": "stream",
          "text": [
            "Training Epoch 44/50: 100%|██████████| 40/40 [00:01<00:00, 22.69it/s]\n"
          ]
        },
        {
          "name": "stdout",
          "output_type": "stream",
          "text": [
            "Epoch 44/50, Loss: 0.0996, LR: 0.000015\n"
          ]
        },
        {
          "name": "stderr",
          "output_type": "stream",
          "text": [
            "Evaluating: 100%|██████████| 5/5 [00:04<00:00,  1.11it/s]\n"
          ]
        },
        {
          "name": "stdout",
          "output_type": "stream",
          "text": [
            "Epoch 44/50, Reconstruction Accuracy: 0.3703\n"
          ]
        },
        {
          "name": "stderr",
          "output_type": "stream",
          "text": [
            "Training Epoch 45/50: 100%|██████████| 40/40 [00:01<00:00, 21.67it/s]\n"
          ]
        },
        {
          "name": "stdout",
          "output_type": "stream",
          "text": [
            "Epoch 45/50, Loss: 0.0961, LR: 0.000011\n"
          ]
        },
        {
          "name": "stderr",
          "output_type": "stream",
          "text": [
            "Evaluating: 100%|██████████| 5/5 [00:04<00:00,  1.10it/s]\n"
          ]
        },
        {
          "name": "stdout",
          "output_type": "stream",
          "text": [
            "Epoch 45/50, Reconstruction Accuracy: 0.3688\n"
          ]
        },
        {
          "name": "stderr",
          "output_type": "stream",
          "text": [
            "Training Epoch 46/50: 100%|██████████| 40/40 [00:01<00:00, 22.15it/s]\n"
          ]
        },
        {
          "name": "stdout",
          "output_type": "stream",
          "text": [
            "Epoch 46/50, Loss: 0.0939, LR: 0.000008\n"
          ]
        },
        {
          "name": "stderr",
          "output_type": "stream",
          "text": [
            "Evaluating: 100%|██████████| 5/5 [00:04<00:00,  1.17it/s]\n"
          ]
        },
        {
          "name": "stdout",
          "output_type": "stream",
          "text": [
            "Epoch 46/50, Reconstruction Accuracy: 0.3685\n"
          ]
        },
        {
          "name": "stderr",
          "output_type": "stream",
          "text": [
            "Training Epoch 47/50: 100%|██████████| 40/40 [00:01<00:00, 22.63it/s]\n"
          ]
        },
        {
          "name": "stdout",
          "output_type": "stream",
          "text": [
            "Epoch 47/50, Loss: 0.0930, LR: 0.000006\n"
          ]
        },
        {
          "name": "stderr",
          "output_type": "stream",
          "text": [
            "Evaluating: 100%|██████████| 5/5 [00:04<00:00,  1.12it/s]\n"
          ]
        },
        {
          "name": "stdout",
          "output_type": "stream",
          "text": [
            "Epoch 47/50, Reconstruction Accuracy: 0.3735\n"
          ]
        },
        {
          "name": "stderr",
          "output_type": "stream",
          "text": [
            "Training Epoch 48/50: 100%|██████████| 40/40 [00:01<00:00, 22.19it/s]\n"
          ]
        },
        {
          "name": "stdout",
          "output_type": "stream",
          "text": [
            "Epoch 48/50, Loss: 0.0909, LR: 0.000004\n"
          ]
        },
        {
          "name": "stderr",
          "output_type": "stream",
          "text": [
            "Evaluating: 100%|██████████| 5/5 [00:04<00:00,  1.16it/s]\n"
          ]
        },
        {
          "name": "stdout",
          "output_type": "stream",
          "text": [
            "Epoch 48/50, Reconstruction Accuracy: 0.3765\n"
          ]
        },
        {
          "name": "stderr",
          "output_type": "stream",
          "text": [
            "Training Epoch 49/50: 100%|██████████| 40/40 [00:01<00:00, 22.39it/s]\n"
          ]
        },
        {
          "name": "stdout",
          "output_type": "stream",
          "text": [
            "Epoch 49/50, Loss: 0.0911, LR: 0.000002\n"
          ]
        },
        {
          "name": "stderr",
          "output_type": "stream",
          "text": [
            "Evaluating: 100%|██████████| 5/5 [00:04<00:00,  1.15it/s]\n"
          ]
        },
        {
          "name": "stdout",
          "output_type": "stream",
          "text": [
            "Epoch 49/50, Reconstruction Accuracy: 0.3684\n"
          ]
        },
        {
          "name": "stderr",
          "output_type": "stream",
          "text": [
            "Training Epoch 50/50: 100%|██████████| 40/40 [00:01<00:00, 22.57it/s]\n"
          ]
        },
        {
          "name": "stdout",
          "output_type": "stream",
          "text": [
            "Epoch 50/50, Loss: 0.0908, LR: 0.000001\n"
          ]
        },
        {
          "name": "stderr",
          "output_type": "stream",
          "text": [
            "Evaluating: 100%|██████████| 5/5 [00:04<00:00,  1.16it/s]"
          ]
        },
        {
          "name": "stdout",
          "output_type": "stream",
          "text": [
            "Epoch 50/50, Reconstruction Accuracy: 0.3686\n"
          ]
        },
        {
          "name": "stderr",
          "output_type": "stream",
          "text": [
            "\n"
          ]
        }
      ],
      "source": [
        "os.makedirs(save_dir, exist_ok=True)\n",
        "best_accuracy: float = 0.0\n",
        "model.to(device)\n",
        "\n",
        "for epoch in range(epochs):\n",
        "    model.train()\n",
        "    epoch_loss = 0\n",
        "\n",
        "    for input_ids, labels in tqdm(train_dataloader, desc=f\"Training Epoch {epoch + 1}/{epochs}\"):\n",
        "        input_ids, labels = input_ids.to(device), labels.to(device)\n",
        "        outputs = model(input_ids=input_ids).logits.view(-1, config.vocab_size)\n",
        "        labels = labels.view(-1)\n",
        "        loss = criterion(outputs, labels)\n",
        "        optimizer.zero_grad()\n",
        "        loss.backward()\n",
        "        \n",
        "        # === FINAL REVISION START: Added Gradient Clipping ===\n",
        "        torch.nn.utils.clip_grad_norm_(model.parameters(), grad_clip)\n",
        "        # === FINAL REVISION END ===\n",
        "        \n",
        "        optimizer.step()\n",
        "        epoch_loss += loss.item()\n",
        "\n",
        "    avg_epoch_loss = epoch_loss / len(train_dataloader)\n",
        "    print(f\"Epoch {epoch + 1}/{epochs}, Loss: {avg_epoch_loss:.4f}, LR: {scheduler.get_last_lr()[0]:.6f}\")\n",
        "\n",
        "    scheduler.step()\n",
        "\n",
        "    model.eval()\n",
        "    total_accuracy = 0\n",
        "    num_batches = 0\n",
        "\n",
        "    with torch.no_grad():\n",
        "        for inputs, labels in tqdm(dev_dataloader, desc=\"Evaluating\"):\n",
        "            inputs, labels = inputs.to(device), labels.to(device)\n",
        "            attention_mask = torch.ones_like(inputs)\n",
        "            generated_outputs = model.generate(inputs, attention_mask=attention_mask, max_length=400, do_sample=False)\n",
        "            generated_outputs = generated_outputs[:, -160:]\n",
        "            accuracy = (generated_outputs == labels).float().mean().item()\n",
        "            total_accuracy += accuracy\n",
        "            num_batches += 1\n",
        "\n",
        "    avg_accuracy = total_accuracy / num_batches\n",
        "    print(f\"Epoch {epoch + 1}/{epochs}, Reconstruction Accuracy: {avg_accuracy:.4f}\")\n",
        "\n",
        "    if avg_accuracy > best_accuracy:\n",
        "        best_accuracy = avg_accuracy\n",
        "        save_model(model, optimizer, epoch, best_accuracy, save_dir)\n"
      ]
    },
    {
      "cell_type": "markdown",
      "metadata": {
        "id": "mNEXUdGBo5eK"
      },
      "source": [
        "### Inference"
      ]
    },
    {
      "cell_type": "code",
      "execution_count": 45,
      "metadata": {
        "id": "D-A5aGBRGR4q"
      },
      "outputs": [
        {
          "name": "stderr",
          "output_type": "stream",
          "text": [
            "Generating Outputs: 100%|██████████| 5/5 [00:04<00:00,  1.03it/s]"
          ]
        },
        {
          "name": "stdout",
          "output_type": "stream",
          "text": [
            "Reconstructed results saved to /workspace/reconstructed_results.txt\n"
          ]
        },
        {
          "name": "stderr",
          "output_type": "stream",
          "text": [
            "\n"
          ]
        }
      ],
      "source": [
        "best_model_path = os.path.join(save_dir, \"best_model.pth\")\n",
        "checkpoint = torch.load(best_model_path, map_location=device)\n",
        "model.load_state_dict(checkpoint[\"model_state_dict\"])\n",
        "model.eval()\n",
        "\n",
        "results: list = []\n",
        "\n",
        "with torch.no_grad():\n",
        "    for inputs in tqdm(test_dataloader, desc=\"Generating Outputs\"):\n",
        "        inputs = inputs.to(device)\n",
        "        attention_mask = torch.ones_like(inputs)\n",
        "        generated_outputs = model.generate(\n",
        "            inputs, \n",
        "            attention_mask=attention_mask, \n",
        "            max_length=400, \n",
        "            do_sample=True, \n",
        "            top_k=50,\n",
        "            top_p=0.95,\n",
        "            temperature=1.0\n",
        "        )\n",
        "        batch_results = generated_outputs.cpu().numpy().tolist()\n",
        "        results.extend(batch_results)\n",
        "\n",
        "output_file: str = \"/workspace/reconstructed_results.txt\"\n",
        "with open(output_file, \"w\") as f:\n",
        "    for seq in results:\n",
        "        f.write(\" \".join(map(str, seq)) + \"\\n\")\n",
        "\n",
        "print(f\"Reconstructed results saved to {output_file}\")"
      ]
    },
    {
      "cell_type": "code",
      "execution_count": 46,
      "metadata": {
        "id": "xPxOAnFHIxfb"
      },
      "outputs": [
        {
          "data": {
            "image/png": "[encoded data removed]",
            "text/plain": [
              "<Figure size 1600x600 with 96 Axes>"
            ]
          },
          "metadata": {},
          "output_type": "display_data"
        }
      ],
      "source": [
        "# Visualize generated test images\n",
        "predicted_images = [pixel_to_image(sequence, colormap) for sequence in results]\n",
        "show_images(predicted_images)"
      ]
    }
  ],
  "metadata": {
    "accelerator": "GPU",
    "colab": {
      "gpuType": "T4",
      "provenance": []
    },
    "kernelspec": {
      "display_name": "Python 3",
      "name": "python3"
    },
    "language_info": {
      "codemirror_mode": {
        "name": "ipython",
        "version": 3
      },
      "file_extension": ".py",
      "mimetype": "text/x-python",
      "name": "python",
      "nbconvert_exporter": "python",
      "pygments_lexer": "ipython3",
      "version": "3.11.0rc1"
    }
  },
  "nbformat": 4,
  "nbformat_minor": 0
}
